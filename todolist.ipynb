{
 "cells": [
  {
   "cell_type": "code",
   "execution_count": 1,
   "metadata": {},
   "outputs": [],
   "source": [
    "from tkinter import*\n",
    "from tkinter import messagebox, simpledialog\n",
    "\n",
    "root=Tk()\n",
    "root.config(bg='azure')\n",
    "root.geometry(\"600x700+50+30\")\n",
    "root.title('To-do list')\n",
    "\n",
    "lbl=Label(root,text='To-Do List',font=('Aerial',40,'bold'),bg='azure')\n",
    "lbl.pack(padx=10,pady=10)\n",
    "\n",
    "def add():\n",
    "    t=x.get()\n",
    "    if t:\n",
    "        t_list.insert(END,t)\n",
    "        ent.delete(0,END)\n",
    "\n",
    "def remove():\n",
    "    s_index=t_list.curselection()\n",
    "    if s_index:\n",
    "        t_list.delete(s_index)\n",
    "\n",
    "def edit():\n",
    "    s_index=t_list.curselection()\n",
    "    if s_index:\n",
    "        c_t=t_list.get(s_index)\n",
    "        n_t=simpledialog.askstring('Edit Tasks','Edit the task',initialvalue=c_t)\n",
    "        if n_t:\n",
    "            t_list.delete(s_index)\n",
    "            t_list.insert(s_index,n_t)\n",
    "\n",
    "\n",
    "\n",
    "x=StringVar()\n",
    "ent= Entry(root,textvariable=x, font=(\"aerial\", 15))\n",
    "ent.pack(pady=10, padx=10, fill=BOTH)\n",
    "\n",
    "but1 = Button(root, text=\"Add Task\", font=(\"aerial\", 12),command=add)\n",
    "but1.pack(pady=5, padx=10, fill=BOTH)\n",
    "\n",
    "t_list=Listbox(root, selectmode=SINGLE, font=(\"aerial\", 15),background='lavender')\n",
    "t_list.pack(padx=10,fill=BOTH, expand=True)\n",
    "\n",
    "but2 = Button(root, text=\"Remove Task\",font=(\"aerial\", 12),command=remove)\n",
    "but2.pack(pady=5, padx=10, fill=BOTH)\n",
    "\n",
    "but3 = Button(root, text=\"Edit Task\",font=(\"aerial\", 12),command=edit)\n",
    "but3.pack(pady=5, padx=10, fill=BOTH)\n",
    "\n",
    "\n",
    "\n",
    "root.mainloop()"
   ]
  }
 ],
 "metadata": {
  "kernelspec": {
   "display_name": "Python 3",
   "language": "python",
   "name": "python3"
  },
  "language_info": {
   "codemirror_mode": {
    "name": "ipython",
    "version": 3
   },
   "file_extension": ".py",
   "mimetype": "text/x-python",
   "name": "python",
   "nbconvert_exporter": "python",
   "pygments_lexer": "ipython3",
   "version": "3.11.0"
  },
  "orig_nbformat": 4
 },
 "nbformat": 4,
 "nbformat_minor": 2
}
